{
 "cells": [
  {
   "cell_type": "code",
   "execution_count": 26,
   "id": "f2fb5b42",
   "metadata": {},
   "outputs": [
    {
     "data": {
      "text/plain": [
       "'dab ma I'"
      ]
     },
     "execution_count": 26,
     "metadata": {},
     "output_type": "execute_result"
    }
   ],
   "source": [
    "def reverse_string(sentence):\n",
    "    sentence = sentence[::-1]\n",
    "    return sentence\n",
    "\n",
    "reverse_string('I am bad')"
   ]
  },
  {
   "cell_type": "code",
   "execution_count": null,
   "id": "5ceb014a",
   "metadata": {},
   "outputs": [],
   "source": []
  }
 ],
 "metadata": {
  "kernelspec": {
   "display_name": "Python 3 (ipykernel)",
   "language": "python",
   "name": "python3"
  },
  "language_info": {
   "codemirror_mode": {
    "name": "ipython",
    "version": 3
   },
   "file_extension": ".py",
   "mimetype": "text/x-python",
   "name": "python",
   "nbconvert_exporter": "python",
   "pygments_lexer": "ipython3",
   "version": "3.8.10"
  }
 },
 "nbformat": 4,
 "nbformat_minor": 5
}
