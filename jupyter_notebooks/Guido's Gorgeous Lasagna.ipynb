{
 "cells": [
  {
   "cell_type": "code",
   "execution_count": 11,
   "id": "587b8a34",
   "metadata": {},
   "outputs": [],
   "source": [
    "EXPECTED_BAKE_TIME = 40\n",
    "\n",
    "def bake_time_remaining(time):\n",
    "    if type(time) == str:\n",
    "        print(\"Enter only numbers\")\n",
    "    elif time > EXPECTED_BAKE_TIME:\n",
    "        print(\"Your Lasagna is overcooked\")\n",
    "    elif time < 0:\n",
    "        print(\"Invalid entry\")\n",
    "    else:\n",
    "        print(EXPECTED_BAKE_TIME-time)\n"
   ]
  },
  {
   "cell_type": "code",
   "execution_count": 12,
   "id": "f8143de7",
   "metadata": {},
   "outputs": [
    {
     "name": "stdout",
     "output_type": "stream",
     "text": [
      "37\n"
     ]
    }
   ],
   "source": [
    "bake_time_remaining(3)"
   ]
  },
  {
   "cell_type": "code",
   "execution_count": 3,
   "id": "2489980b",
   "metadata": {},
   "outputs": [],
   "source": [
    "def preparation_time_in_minutes(prep_time):\n",
    "    if type(prep_time) == str:\n",
    "        print(\"Enter only numbers\")\n",
    "    elif prep_time < 0:\n",
    "        print(\"Invalid entry\")\n",
    "    else:\n",
    "        print(2*prep_time)"
   ]
  },
  {
   "cell_type": "code",
   "execution_count": 9,
   "id": "2ab8f7c1",
   "metadata": {},
   "outputs": [
    {
     "name": "stdout",
     "output_type": "stream",
     "text": [
      "8\n"
     ]
    }
   ],
   "source": [
    "preparation_time_in_minutes(4)"
   ]
  },
  {
   "cell_type": "code",
   "execution_count": 20,
   "id": "98f1e5cc",
   "metadata": {},
   "outputs": [],
   "source": [
    "def elapsed_time_in_minutes(number_of_layers,elapsed_bake_time):\n",
    "    \"\"\"\n",
    "    Return elapsed cooking time.\n",
    "\n",
    "    This function takes two numbers representing the number of layers & the time already spent \n",
    "    baking and calculates the total elapsed minutes spent cooking the lasagna.\n",
    "    \"\"\"\n",
    "    if type(number_of_layers) == str or type(number_of_layers) == str:\n",
    "        print(\"Enter only numbers\")\n",
    "    elif number_of_layers < 0 or elapsed_bake_time < 0:\n",
    "        print(\"Invalid entry\")\n",
    "    else:\n",
    "        print(2*number_of_layers + elapsed_bake_time)"
   ]
  },
  {
   "cell_type": "code",
   "execution_count": 21,
   "id": "b1bd2215",
   "metadata": {},
   "outputs": [
    {
     "name": "stdout",
     "output_type": "stream",
     "text": [
      "26\n"
     ]
    }
   ],
   "source": [
    "elapsed_time_in_minutes(3,20)"
   ]
  },
  {
   "cell_type": "code",
   "execution_count": null,
   "id": "f028a6b7",
   "metadata": {},
   "outputs": [],
   "source": []
  }
 ],
 "metadata": {
  "kernelspec": {
   "display_name": "Python 3 (ipykernel)",
   "language": "python",
   "name": "python3"
  },
  "language_info": {
   "codemirror_mode": {
    "name": "ipython",
    "version": 3
   },
   "file_extension": ".py",
   "mimetype": "text/x-python",
   "name": "python",
   "nbconvert_exporter": "python",
   "pygments_lexer": "ipython3",
   "version": "3.8.10"
  }
 },
 "nbformat": 4,
 "nbformat_minor": 5
}
