{
 "cells": [
  {
   "cell_type": "code",
   "execution_count": 42,
   "id": "727254cd",
   "metadata": {},
   "outputs": [
    {
     "name": "stdout",
     "output_type": "stream",
     "text": [
      "1\n"
     ]
    }
   ],
   "source": [
    "def value_of_card(card):\n",
    "    if card == 'A':\n",
    "        print(1)\n",
    "    elif card in ['K','Q','J']:\n",
    "        print(10)\n",
    "    else:\n",
    "        return card\n",
    "        \n",
    "value_of_card('A')"
   ]
  },
  {
   "cell_type": "code",
   "execution_count": 17,
   "id": "4ad6410a",
   "metadata": {},
   "outputs": [
    {
     "data": {
      "text/plain": [
       "'K'"
      ]
     },
     "execution_count": 17,
     "metadata": {},
     "output_type": "execute_result"
    }
   ],
   "source": [
    "def returning_two_values(card_one, card_two):\n",
    "    if card_one > card_two:\n",
    "        return card_one\n",
    "    elif card_one < card_two:\n",
    "        return card_two\n",
    "    else:\n",
    "        return card_one, card_two\n",
    "    \n",
    "returning_two_values('K', '10')"
   ]
  },
  {
   "cell_type": "code",
   "execution_count": 19,
   "id": "57886dac",
   "metadata": {},
   "outputs": [
    {
     "data": {
      "text/plain": [
       "1"
      ]
     },
     "execution_count": 19,
     "metadata": {},
     "output_type": "execute_result"
    }
   ],
   "source": [
    "def value_of_ace(card_one, card_two):\n",
    "    if card_one == 'A' or card_two == 'A':\n",
    "        return 1\n",
    "    if int(value_of_card(card_one)) + int(value_of_card(card_two)) <= 10:\n",
    "        return 11\n",
    "    else:\n",
    "        return 1\n",
    "value_of_ace('A', '3')"
   ]
  },
  {
   "cell_type": "code",
   "execution_count": 29,
   "id": "79013968",
   "metadata": {},
   "outputs": [
    {
     "data": {
      "text/plain": [
       "True"
      ]
     },
     "execution_count": 29,
     "metadata": {},
     "output_type": "execute_result"
    }
   ],
   "source": [
    "def is_blackjack(card_one, card_two):\n",
    "    if card_one in \"KQJ, 10\" and card_two == \"A\":\n",
    "        return True\n",
    "    if card_one == \"A\" and card_two in \"KQJ, 10\":\n",
    "        return True \n",
    "    else:\n",
    "        return False\n",
    "    \n",
    "is_blackjack('A', 'K')"
   ]
  },
  {
   "cell_type": "code",
   "execution_count": 32,
   "id": "5b5a5685",
   "metadata": {},
   "outputs": [
    {
     "name": "stdout",
     "output_type": "stream",
     "text": [
      "1\n"
     ]
    },
    {
     "data": {
      "text/plain": [
       "False"
      ]
     },
     "execution_count": 32,
     "metadata": {},
     "output_type": "execute_result"
    }
   ],
   "source": [
    "def can_split_pairs(card_one, card_two):\n",
    "    if value_of_card(card_one) == value_of_card(card_two):\n",
    "        return True\n",
    "    else:\n",
    "        return False\n",
    "\n",
    "can_split_pairs('10', 'A')"
   ]
  },
  {
   "cell_type": "code",
   "execution_count": 47,
   "id": "c667eca5",
   "metadata": {},
   "outputs": [
    {
     "name": "stdout",
     "output_type": "stream",
     "text": [
      "1\n"
     ]
    },
    {
     "ename": "TypeError",
     "evalue": "int() argument must be a string, a bytes-like object or a number, not 'NoneType'",
     "output_type": "error",
     "traceback": [
      "\u001b[0;31m---------------------------------------------------------------------------\u001b[0m",
      "\u001b[0;31mTypeError\u001b[0m                                 Traceback (most recent call last)",
      "Cell \u001b[0;32mIn[47], line 5\u001b[0m\n\u001b[1;32m      2\u001b[0m     numbers_double_down \u001b[38;5;241m=\u001b[39m \u001b[38;5;124m\"\u001b[39m\u001b[38;5;124m9, 10, 11\u001b[39m\u001b[38;5;124m\"\u001b[39m\n\u001b[1;32m      3\u001b[0m     \u001b[38;5;28;01mreturn\u001b[39;00m \u001b[38;5;28mbool\u001b[39m(\u001b[38;5;28mstr\u001b[39m(\u001b[38;5;28mint\u001b[39m(value_of_card(card_one)) \u001b[38;5;241m+\u001b[39m \u001b[38;5;28mint\u001b[39m(value_of_card(card_two))) \u001b[38;5;129;01min\u001b[39;00m numbers_double_down)\n\u001b[0;32m----> 5\u001b[0m \u001b[43mcan_double_down\u001b[49m\u001b[43m(\u001b[49m\u001b[38;5;124;43m'\u001b[39;49m\u001b[38;5;124;43mA\u001b[39;49m\u001b[38;5;124;43m'\u001b[39;49m\u001b[43m,\u001b[49m\u001b[43m \u001b[49m\u001b[38;5;124;43m'\u001b[39;49m\u001b[38;5;124;43m9\u001b[39;49m\u001b[38;5;124;43m'\u001b[39;49m\u001b[43m)\u001b[49m\n",
      "Cell \u001b[0;32mIn[47], line 3\u001b[0m, in \u001b[0;36mcan_double_down\u001b[0;34m(card_one, card_two)\u001b[0m\n\u001b[1;32m      1\u001b[0m \u001b[38;5;28;01mdef\u001b[39;00m \u001b[38;5;21mcan_double_down\u001b[39m(card_one,card_two):\n\u001b[1;32m      2\u001b[0m     numbers_double_down \u001b[38;5;241m=\u001b[39m \u001b[38;5;124m\"\u001b[39m\u001b[38;5;124m9, 10, 11\u001b[39m\u001b[38;5;124m\"\u001b[39m\n\u001b[0;32m----> 3\u001b[0m     \u001b[38;5;28;01mreturn\u001b[39;00m \u001b[38;5;28mbool\u001b[39m(\u001b[38;5;28mstr\u001b[39m(\u001b[38;5;28;43mint\u001b[39;49m\u001b[43m(\u001b[49m\u001b[43mvalue_of_card\u001b[49m\u001b[43m(\u001b[49m\u001b[43mcard_one\u001b[49m\u001b[43m)\u001b[49m\u001b[43m)\u001b[49m \u001b[38;5;241m+\u001b[39m \u001b[38;5;28mint\u001b[39m(value_of_card(card_two))) \u001b[38;5;129;01min\u001b[39;00m numbers_double_down)\n",
      "\u001b[0;31mTypeError\u001b[0m: int() argument must be a string, a bytes-like object or a number, not 'NoneType'"
     ]
    }
   ],
   "source": [
    "def can_double_down(card_one,card_two):\n",
    "    numbers_double_down = \"9, 10, 11\"\n",
    "    return bool(str(int(value_of_card(card_one)) + int(value_of_card(card_two))) in numbers_double_down)\n",
    "\n",
    "can_double_down('A', '9')"
   ]
  },
  {
   "cell_type": "code",
   "execution_count": null,
   "id": "79f48e41",
   "metadata": {},
   "outputs": [],
   "source": []
  }
 ],
 "metadata": {
  "kernelspec": {
   "display_name": "Python 3 (ipykernel)",
   "language": "python",
   "name": "python3"
  },
  "language_info": {
   "codemirror_mode": {
    "name": "ipython",
    "version": 3
   },
   "file_extension": ".py",
   "mimetype": "text/x-python",
   "name": "python",
   "nbconvert_exporter": "python",
   "pygments_lexer": "ipython3",
   "version": "3.8.10"
  }
 },
 "nbformat": 4,
 "nbformat_minor": 5
}
