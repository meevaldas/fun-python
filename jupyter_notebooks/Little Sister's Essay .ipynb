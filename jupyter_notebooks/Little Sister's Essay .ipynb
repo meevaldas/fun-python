{
 "cells": [
  {
   "cell_type": "code",
   "execution_count": 12,
   "id": "2355b74c",
   "metadata": {},
   "outputs": [],
   "source": [
    "def capitalize_title(title_head):\n",
    "    return title_head.title()\n",
    "\n",
    "capitalize_title(\"my favo habit\")"
   ]
  },
  {
   "cell_type": "code",
   "execution_count": 3,
   "id": "18b46adf",
   "metadata": {},
   "outputs": [],
   "source": [
    "def check_sentence_ending(sentence):\n",
    "    x = sentence.endswith(\".\")\n",
    "    return x\n",
    "\n",
    "check_sentence_ending(\"I love you.\")"
   ]
  },
  {
   "cell_type": "code",
   "execution_count": 10,
   "id": "662ca89a",
   "metadata": {},
   "outputs": [],
   "source": [
    "def clean_up_spacing(sentence):\n",
    "    x = sentence.strip()\n",
    "    return x\n",
    "\n",
    "clean_up_spacing(\"                edrftgyhjk         jkk ,jbcjb    \")"
   ]
  },
  {
   "cell_type": "code",
   "execution_count": 22,
   "id": "ad343364",
   "metadata": {},
   "outputs": [],
   "source": [
    "def replace_word_choice(sentence, old_word, new_word):\n",
    "    x = sentence.replace(old_word, new_word)\n",
    "    print(x)\n",
    "\n",
    "replace_word_choice(\"I bake good cakes.\", \"good\", \"amazing\")"
   ]
  },
  {
   "cell_type": "code",
   "execution_count": null,
   "id": "c5ed3cb4",
   "metadata": {},
   "outputs": [],
   "source": []
  }
 ],
 "metadata": {
  "kernelspec": {
   "display_name": "Python 3 (ipykernel)",
   "language": "python",
   "name": "python3"
  },
  "language_info": {
   "codemirror_mode": {
    "name": "ipython",
    "version": 3
   },
   "file_extension": ".py",
   "mimetype": "text/x-python",
   "name": "python",
   "nbconvert_exporter": "python",
   "pygments_lexer": "ipython3",
   "version": "3.8.10"
  }
 },
 "nbformat": 4,
 "nbformat_minor": 5
}
