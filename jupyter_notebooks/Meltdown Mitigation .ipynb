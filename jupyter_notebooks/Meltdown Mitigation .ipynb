{
 "cells": [
  {
   "cell_type": "code",
   "execution_count": 2,
   "id": "10e82c9c",
   "metadata": {},
   "outputs": [
    {
     "data": {
      "text/plain": [
       "False"
      ]
     },
     "execution_count": 2,
     "metadata": {},
     "output_type": "execute_result"
    }
   ],
   "source": [
    "def is_criticality_balanced(temperature, neutrons_emitted):\n",
    "    product = temperature * neutrons_emitted\n",
    "    if temperature < 800 and neutrons_emitted > 500 and product < 500000:\n",
    "        return True\n",
    "    else:\n",
    "        return False\n",
    "    \n",
    "is_criticality_balanced(1000, 10000)"
   ]
  },
  {
   "cell_type": "code",
   "execution_count": 6,
   "id": "aaeb5cf9",
   "metadata": {},
   "outputs": [
    {
     "name": "stdout",
     "output_type": "stream",
     "text": [
      "orange\n"
     ]
    }
   ],
   "source": [
    "def reactor_efficiency(voltage, current, theoretical_max_power):\n",
    "    generated_power = voltage * current\n",
    "    efficiency = (generated_power/theoretical_max_power)*100\n",
    "#     if efficiency >= 80:\n",
    "#         print(\"green\")\n",
    "#     elif efficiency < 80 and efficiency >= 60:\n",
    "#         print(\"orange\")\n",
    "#     elif efficiency < 60 and effiecncy >= 30:\n",
    "#         print(\"red\")\n",
    "#     else:\n",
    "#         print(\"black\")\n",
    "\n",
    "    if efficiency >= 80:\n",
    "        print(\"green\")\n",
    "    elif (60 <= efficiency < 80):\n",
    "        print(\"orange\")\n",
    "    elif (30 <= efficiency < 60):\n",
    "        print(\"red\")\n",
    "    else:\n",
    "        print(\"black\")\n",
    "\n",
    "reactor_efficiency(200,50,15000)"
   ]
  },
  {
   "cell_type": "code",
   "execution_count": 7,
   "id": "8e21b472",
   "metadata": {},
   "outputs": [
    {
     "name": "stdout",
     "output_type": "stream",
     "text": [
      "DANGER\n"
     ]
    }
   ],
   "source": [
    "def fail_safe(temperature,neutrons_produced_per_second,threshold):\n",
    "    criticality = temperature * neutrons_produced_per_second\n",
    "    if criticality < (.9 * threshold):\n",
    "        print(\"LOW\")\n",
    "    elif (-.1 * threshold < criticality < +.1 * threshold):\n",
    "        print(\"NORMAL\")\n",
    "    else:\n",
    "        print(\"DANGER\")\n",
    "\n",
    "fail_safe(temperature=1000, neutrons_produced_per_second=30, threshold=5000)"
   ]
  },
  {
   "cell_type": "code",
   "execution_count": null,
   "id": "7e2b2160",
   "metadata": {},
   "outputs": [],
   "source": []
  }
 ],
 "metadata": {
  "kernelspec": {
   "display_name": "Python 3 (ipykernel)",
   "language": "python",
   "name": "python3"
  },
  "language_info": {
   "codemirror_mode": {
    "name": "ipython",
    "version": 3
   },
   "file_extension": ".py",
   "mimetype": "text/x-python",
   "name": "python",
   "nbconvert_exporter": "python",
   "pygments_lexer": "ipython3",
   "version": "3.8.10"
  }
 },
 "nbformat": 4,
 "nbformat_minor": 5
}
