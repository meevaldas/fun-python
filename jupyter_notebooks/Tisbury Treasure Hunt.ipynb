{
 "cells": [
  {
   "cell_type": "code",
   "execution_count": 1,
   "id": "42d68842",
   "metadata": {},
   "outputs": [
    {
     "data": {
      "text/plain": [
       "'2A'"
      ]
     },
     "execution_count": 1,
     "metadata": {},
     "output_type": "execute_result"
    }
   ],
   "source": [
    "def get_coordinate(record):\n",
    "    return record[1] \n",
    "    \n",
    "get_coordinate(('Scrimshawed Whale Tooth', '2A'))"
   ]
  },
  {
   "cell_type": "code",
   "execution_count": 2,
   "id": "5ce98d4c",
   "metadata": {},
   "outputs": [
    {
     "data": {
      "text/plain": [
       "('2', 'A')"
      ]
     },
     "execution_count": 2,
     "metadata": {},
     "output_type": "execute_result"
    }
   ],
   "source": [
    "def convert_coordinate(coordinate):\n",
    "    return tuple(coordinate)\n",
    "\n",
    "convert_coordinate(\"2A\")"
   ]
  },
  {
   "cell_type": "code",
   "execution_count": 3,
   "id": "82e44c79",
   "metadata": {},
   "outputs": [
    {
     "data": {
      "text/plain": [
       "False"
      ]
     },
     "execution_count": 3,
     "metadata": {},
     "output_type": "execute_result"
    }
   ],
   "source": [
    "def compare_records(azara_record, rui_record):\n",
    "    return convert_coordinate(get_coordinate(azara_record)) == rui_record[1]\n",
    "\n",
    "compare_records(('Brass Spyglass', '4B'), ('Seaside Cottages', ('1', 'C'), 'blue'))"
   ]
  },
  {
   "cell_type": "code",
   "execution_count": 4,
   "id": "e17e459e",
   "metadata": {},
   "outputs": [
    {
     "data": {
      "text/plain": [
       "True"
      ]
     },
     "execution_count": 4,
     "metadata": {},
     "output_type": "execute_result"
    }
   ],
   "source": [
    "compare_records(('Model Ship in Large Bottle', '8A'), ('Harbor Managers Office', ('8', 'A'), 'purple'))"
   ]
  },
  {
   "cell_type": "code",
   "execution_count": 6,
   "id": "4ea6e199",
   "metadata": {},
   "outputs": [
    {
     "data": {
      "text/plain": [
       "'Not a match'"
      ]
     },
     "execution_count": 6,
     "metadata": {},
     "output_type": "execute_result"
    }
   ],
   "source": [
    "def create_record(azara_record, rui_record):\n",
    "    if_same = compare_records(azara_record, rui_record)\n",
    "    if if_same == True:\n",
    "        return (azara_record + rui_record)\n",
    "    else:\n",
    "        return (\"Not a match\")\n",
    "    \n",
    "create_record(('Brass Spyglass', '2A'), ('Abandoned Lighthouse', ('4', 'B'), 'Blue'))"
   ]
  },
  {
   "cell_type": "code",
   "execution_count": null,
   "id": "cf006246",
   "metadata": {},
   "outputs": [],
   "source": [
    "clean_up((('Brass Spyglass', '4B', 'Abandoned Lighthouse', ('4', 'B'), 'Blue'), ('Vintage Pirate Hat', '7E', \n",
    "                                                                                 'Quiet Inlet (Island of Mystery)',\n",
    "                                                                                 ('7', 'E'), 'Orange'),\n",
    "                                                      ('Crystal Crab', '6A', 'Old Schooner', ('6', 'A'), 'Purple')))\n",
    "\n",
    "\"\"\"\n",
    "('Brass Spyglass', 'Abandoned Lighthouse', ('4', 'B'), 'Blue')\\n\n",
    "('Vintage Pirate Hat', 'Quiet Inlet (Island of Mystery)', ('7', 'E'), 'Orange')\\n\n",
    "('Crystal Crab', 'Old Schooner', ('6', 'A'), 'Purple')\\n\n",
    "\"\"\"\n",
    "\n",
    "\n"
   ]
  }
 ],
 "metadata": {
  "kernelspec": {
   "display_name": "Python 3 (ipykernel)",
   "language": "python",
   "name": "python3"
  },
  "language_info": {
   "codemirror_mode": {
    "name": "ipython",
    "version": 3
   },
   "file_extension": ".py",
   "mimetype": "text/x-python",
   "name": "python",
   "nbconvert_exporter": "python",
   "pygments_lexer": "ipython3",
   "version": "3.8.10"
  }
 },
 "nbformat": 4,
 "nbformat_minor": 5
}
