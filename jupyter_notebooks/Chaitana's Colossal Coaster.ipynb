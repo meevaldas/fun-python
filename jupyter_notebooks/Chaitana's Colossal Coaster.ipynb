{
 "cells": [
  {
   "cell_type": "code",
   "execution_count": 12,
   "id": "180ec1ff",
   "metadata": {},
   "outputs": [],
   "source": [
    "def add_me_to_the_queue(express_queue, normal_queue, ticket_type, person_name):\n",
    "#     if ticket_type == 1:\n",
    "#         xpress_q = express_queue.append(person_name)\n",
    "#         return xpress_q\n",
    "#     else:\n",
    "#         normal_q = normal_queue.append(person_name)\n",
    "#         return normal_q\n",
    "#     raise ValueError(\"Invalid Ticket Type\")\n",
    "    return (express_queue if ticket_type == 1 else normal_queue) + [person_name]\n",
    "\n",
    "add_me_to_the_queue(express_queue=[\"Tony\", \"Bruce\"], normal_queue=[\"RobotGuy\", \"WW\"], ticket_type=1, person_name=\"RichieRich\")"
   ]
  },
  {
   "cell_type": "code",
   "execution_count": 15,
   "id": "c14174c9",
   "metadata": {},
   "outputs": [
    {
     "data": {
      "text/plain": [
       "'Name not found!'"
      ]
     },
     "execution_count": 15,
     "metadata": {},
     "output_type": "execute_result"
    }
   ],
   "source": [
    "def find_my_friend(queue, friend_name):\n",
    "    return (queue.index(friend_name) if friend_name in queue else \"Name not found!\")\n",
    "    \n",
    "    \n",
    "find_my_friend(queue=[\"Natasha\", \"Steve\", \"T'challa\", \"Wanda\", \"Rocket\"], friend_name=\"Meeval\")"
   ]
  },
  {
   "cell_type": "code",
   "execution_count": 21,
   "id": "2d6894d1",
   "metadata": {},
   "outputs": [
    {
     "data": {
      "text/plain": [
       "['Natasha', 'Bucky', 'Steve', \"T'challa\", 'Wanda', 'Rocket']"
      ]
     },
     "execution_count": 21,
     "metadata": {},
     "output_type": "execute_result"
    }
   ],
   "source": [
    "def add_me_with_my_friends(queue, index, person_name):\n",
    "    queue.insert(index, person_name)\n",
    "    return queue\n",
    "\n",
    "add_me_with_my_friends(queue=[\"Natasha\", \"Steve\", \"T'challa\", \"Wanda\", \"Rocket\"], index=1, person_name=\"Bucky\")"
   ]
  },
  {
   "cell_type": "code",
   "execution_count": 26,
   "id": "7e518ca7",
   "metadata": {},
   "outputs": [
    {
     "data": {
      "text/plain": [
       "['Natasha', 'Steve', 'Wanda', 'Rocket']"
      ]
     },
     "execution_count": 26,
     "metadata": {},
     "output_type": "execute_result"
    }
   ],
   "source": [
    "def remove_the_mean_person(queue, person_name):\n",
    "    queue.remove(person_name)\n",
    "    return queue\n",
    "\n",
    "remove_the_mean_person(queue=[\"Natasha\", \"Steve\", \"Eltran\", \"Wanda\", \"Rocket\"], person_name=\"Eltran\")"
   ]
  },
  {
   "cell_type": "code",
   "execution_count": 29,
   "id": "225583be",
   "metadata": {},
   "outputs": [
    {
     "data": {
      "text/plain": [
       "1"
      ]
     },
     "execution_count": 29,
     "metadata": {},
     "output_type": "execute_result"
    }
   ],
   "source": [
    "def how_many_namefellows(queue, person_name):\n",
    "    occurrences = queue.count(person_name)\n",
    "    return occurrences\n",
    "\n",
    "how_many_namefellows(queue=[\"Natasha\", \"Steve\", \"Eltran\", \"Natasha\", \"Rocket\"], person_name=\"Rocket\")"
   ]
  },
  {
   "cell_type": "code",
   "execution_count": 36,
   "id": "6ab6ba36",
   "metadata": {},
   "outputs": [
    {
     "data": {
      "text/plain": [
       "'Rocket'"
      ]
     },
     "execution_count": 36,
     "metadata": {},
     "output_type": "execute_result"
    }
   ],
   "source": [
    "def remove_the_last_person(queue):\n",
    "    return queue[-1]\n",
    "\n",
    "remove_the_last_person(queue=[\"Natasha\", \"Steve\", \"Eltran\", \"Natasha\", \"Rocket\"])"
   ]
  },
  {
   "cell_type": "code",
   "execution_count": 42,
   "id": "db072d8f",
   "metadata": {},
   "outputs": [
    {
     "data": {
      "text/plain": [
       "['Eltran', 'Jimin', 'Natasha', 'Rocket', 'Steve']"
      ]
     },
     "execution_count": 42,
     "metadata": {},
     "output_type": "execute_result"
    }
   ],
   "source": [
    "def sorted_names(queue):\n",
    "    return sorted(queue)\n",
    "\n",
    "sorted_names(queue=[\"Natasha\", \"Steve\", \"Eltran\", \"Jimin\", \"Rocket\"])"
   ]
  },
  {
   "cell_type": "code",
   "execution_count": null,
   "id": "3664fab7",
   "metadata": {},
   "outputs": [],
   "source": []
  }
 ],
 "metadata": {
  "kernelspec": {
   "display_name": "Python 3 (ipykernel)",
   "language": "python",
   "name": "python3"
  },
  "language_info": {
   "codemirror_mode": {
    "name": "ipython",
    "version": 3
   },
   "file_extension": ".py",
   "mimetype": "text/x-python",
   "name": "python",
   "nbconvert_exporter": "python",
   "pygments_lexer": "ipython3",
   "version": "3.8.10"
  }
 },
 "nbformat": 4,
 "nbformat_minor": 5
}
