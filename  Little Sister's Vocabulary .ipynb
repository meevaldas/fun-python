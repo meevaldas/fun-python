{
 "cells": [
  {
   "cell_type": "code",
   "execution_count": 4,
   "id": "2dc7a38e",
   "metadata": {},
   "outputs": [
    {
     "data": {
      "text/plain": [
       "'unmanageable'"
      ]
     },
     "execution_count": 4,
     "metadata": {},
     "output_type": "execute_result"
    }
   ],
   "source": [
    "def add_prefix_un(word):\n",
    "    x = \"un\" + word\n",
    "    return x\n",
    "\n",
    "add_prefix_un(\"manageable\")"
   ]
  },
  {
   "cell_type": "code",
   "execution_count": 5,
   "id": "884bfa24",
   "metadata": {},
   "outputs": [
    {
     "data": {
      "text/plain": [
       "'happy'"
      ]
     },
     "execution_count": 5,
     "metadata": {},
     "output_type": "execute_result"
    }
   ],
   "source": [
    "def remove_suffix_ness(word):\n",
    "    x = removesuffix(word, \"ness\")\n",
    "    x = x.replace('i','y')\n",
    "    return x\n",
    "\n",
    "\n",
    "def removesuffix(string, suffix):\n",
    "    if string.endswith(suffix):\n",
    "        return string[:-len(suffix)]\n",
    "    return string\n",
    "\n",
    "remove_suffix_ness(\"happiness\")"
   ]
  },
  {
   "cell_type": "code",
   "execution_count": 10,
   "id": "62330735",
   "metadata": {},
   "outputs": [
    {
     "data": {
      "text/plain": [
       "'en::enclose::enjoy::enlighten'"
      ]
     },
     "execution_count": 10,
     "metadata": {},
     "output_type": "execute_result"
    }
   ],
   "source": [
    "def make_word_groups(vocab_words):\n",
    "    return (\"::\" + vocab_words[0]).join(vocab_words)\n",
    "\n",
    "make_word_groups(['en', 'close', 'joy', 'lighten'])"
   ]
  },
  {
   "cell_type": "code",
   "execution_count": 7,
   "id": "256240ee",
   "metadata": {},
   "outputs": [
    {
     "data": {
      "text/plain": [
       "'brighten'"
      ]
     },
     "execution_count": 7,
     "metadata": {},
     "output_type": "execute_result"
    }
   ],
   "source": [
    "def adjective_to_verb(sentence, index):\n",
    "    word = sentence.split()[-1]\n",
    "    word = word+\"en\"\n",
    "    return word\n",
    "\n",
    "adjective_to_verb('I need to make that bright', -1 )"
   ]
  },
  {
   "cell_type": "code",
   "execution_count": null,
   "id": "b669e4ff",
   "metadata": {},
   "outputs": [],
   "source": []
  }
 ],
 "metadata": {
  "kernelspec": {
   "display_name": "Python 3 (ipykernel)",
   "language": "python",
   "name": "python3"
  },
  "language_info": {
   "codemirror_mode": {
    "name": "ipython",
    "version": 3
   },
   "file_extension": ".py",
   "mimetype": "text/x-python",
   "name": "python",
   "nbconvert_exporter": "python",
   "pygments_lexer": "ipython3",
   "version": "3.8.10"
  }
 },
 "nbformat": 4,
 "nbformat_minor": 5
}
