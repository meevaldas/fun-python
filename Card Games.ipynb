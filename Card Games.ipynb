{
 "cells": [
  {
   "cell_type": "code",
   "execution_count": 10,
   "id": "9fbe4a0f",
   "metadata": {},
   "outputs": [
    {
     "data": {
      "text/plain": [
       "[27, 28, 29]"
      ]
     },
     "execution_count": 10,
     "metadata": {},
     "output_type": "execute_result"
    }
   ],
   "source": [
    "def get_rounds(round_number):\n",
    "    my_list = []\n",
    "    for x in range(3):\n",
    "        my_list.append(round_number)\n",
    "        round_number = round_number + 1\n",
    "    return my_list\n",
    "\n",
    "get_rounds(27)"
   ]
  },
  {
   "cell_type": "code",
   "execution_count": 11,
   "id": "a16aca1a",
   "metadata": {},
   "outputs": [
    {
     "data": {
      "text/plain": [
       "[27, 28, 29, 35, 36]"
      ]
     },
     "execution_count": 11,
     "metadata": {},
     "output_type": "execute_result"
    }
   ],
   "source": [
    "def concatenate_rounds(rounds_1, rounds_2):\n",
    "    my_list = rounds_1 + rounds_2\n",
    "    return my_list\n",
    "\n",
    "concatenate_rounds([27, 28, 29], [35, 36])"
   ]
  },
  {
   "cell_type": "code",
   "execution_count": 13,
   "id": "968fba60",
   "metadata": {},
   "outputs": [
    {
     "data": {
      "text/plain": [
       "False"
      ]
     },
     "execution_count": 13,
     "metadata": {},
     "output_type": "execute_result"
    }
   ],
   "source": [
    "def list_contains_round(rounds, round_number):\n",
    "    if (round_number in rounds):\n",
    "        return True\n",
    "    else:\n",
    "        return False\n",
    "    \n",
    "list_contains_round([27, 28, 29, 35, 36],30)"
   ]
  },
  {
   "cell_type": "code",
   "execution_count": 15,
   "id": "90878662",
   "metadata": {},
   "outputs": [
    {
     "data": {
      "text/plain": [
       "6.666666666666667"
      ]
     },
     "execution_count": 15,
     "metadata": {},
     "output_type": "execute_result"
    }
   ],
   "source": [
    "from statistics import mean\n",
    "\n",
    "def card_average(hand): \n",
    "    average = mean(hand) \n",
    "    return average\n",
    "\n",
    "card_average([5, 6, 9])"
   ]
  },
  {
   "cell_type": "code",
   "execution_count": 5,
   "id": "e5416b2f",
   "metadata": {},
   "outputs": [
    {
     "name": "stdout",
     "output_type": "stream",
     "text": [
      "<built-in function sum>\n"
     ]
    }
   ],
   "source": [
    "def approx_average_is_average(hand):\n",
    "    sum_Of = sum(hand[::2]) \n",
    "    print(sum)\n",
    "\n",
    "approx_average_is_average([1, 2, 3, 4])"
   ]
  },
  {
   "cell_type": "code",
   "execution_count": null,
   "id": "c3316be9",
   "metadata": {},
   "outputs": [],
   "source": []
  }
 ],
 "metadata": {
  "kernelspec": {
   "display_name": "Python 3 (ipykernel)",
   "language": "python",
   "name": "python3"
  },
  "language_info": {
   "codemirror_mode": {
    "name": "ipython",
    "version": 3
   },
   "file_extension": ".py",
   "mimetype": "text/x-python",
   "name": "python",
   "nbconvert_exporter": "python",
   "pygments_lexer": "ipython3",
   "version": "3.8.10"
  }
 },
 "nbformat": 4,
 "nbformat_minor": 5
}
