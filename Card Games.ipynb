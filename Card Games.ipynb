{
 "cells": [
  {
   "cell_type": "code",
   "execution_count": 8,
   "id": "9fbe4a0f",
   "metadata": {
    "scrolled": true
   },
   "outputs": [],
   "source": [
    "from statistics import mean"
   ]
  },
  {
   "cell_type": "code",
   "execution_count": 9,
   "id": "75c8b5de",
   "metadata": {},
   "outputs": [
    {
     "data": {
      "text/plain": [
       "[27, 28, 29]"
      ]
     },
     "execution_count": 9,
     "metadata": {},
     "output_type": "execute_result"
    }
   ],
   "source": [
    "def get_rounds(round_number):\n",
    "    my_list = []\n",
    "    for x in range(3):\n",
    "        my_list.append(round_number)\n",
    "        round_number = round_number + 1\n",
    "    return my_list\n",
    "\n",
    "get_rounds(27)"
   ]
  },
  {
   "cell_type": "code",
   "execution_count": 10,
   "id": "a16aca1a",
   "metadata": {},
   "outputs": [
    {
     "data": {
      "text/plain": [
       "[27, 28, 29, 35, 36]"
      ]
     },
     "execution_count": 10,
     "metadata": {},
     "output_type": "execute_result"
    }
   ],
   "source": [
    "def concatenate_rounds(rounds_1, rounds_2):\n",
    "    my_list = rounds_1 + rounds_2\n",
    "    return my_list\n",
    "\n",
    "concatenate_rounds([27, 28, 29], [35, 36])"
   ]
  },
  {
   "cell_type": "code",
   "execution_count": 11,
   "id": "968fba60",
   "metadata": {},
   "outputs": [
    {
     "data": {
      "text/plain": [
       "False"
      ]
     },
     "execution_count": 11,
     "metadata": {},
     "output_type": "execute_result"
    }
   ],
   "source": [
    "def list_contains_round(rounds, round_number):\n",
    "    if (round_number in rounds):\n",
    "        return True\n",
    "    else:\n",
    "        return False\n",
    "    \n",
    "list_contains_round([27, 28, 29, 35, 36],30)"
   ]
  },
  {
   "cell_type": "code",
   "execution_count": 12,
   "id": "90878662",
   "metadata": {},
   "outputs": [
    {
     "data": {
      "text/plain": [
       "6.666666666666667"
      ]
     },
     "execution_count": 12,
     "metadata": {},
     "output_type": "execute_result"
    }
   ],
   "source": [
    "def card_average(hand): \n",
    "    average = mean(hand) \n",
    "    return average\n",
    "\n",
    "card_average([5, 6, 9])"
   ]
  },
  {
   "cell_type": "code",
   "execution_count": 13,
   "id": "e5416b2f",
   "metadata": {},
   "outputs": [
    {
     "data": {
      "text/plain": [
       "False"
      ]
     },
     "execution_count": 13,
     "metadata": {},
     "output_type": "execute_result"
    }
   ],
   "source": [
    "def approx_average_is_average(hand):\n",
    "    average_even_sum = 0\n",
    "    average_odd_sum = 0\n",
    "    \n",
    "    for i in range(0, len(hand)):\n",
    "        if i%2 == 0:\n",
    "            average_even_sum = average_even_sum + hand[i]\n",
    "            \n",
    "        else:\n",
    "            average_odd_sum = average_odd_sum + hand[i]\n",
    "        \n",
    "    print(average_even_sum, average_odd_sum)\n",
    "    if average_even_sum == average_odd_sum:\n",
    "        return True\n",
    "        \n",
    "\n",
    "approx_average_is_average([1, 2, 3, 4])\n",
    "\n",
    "\n",
    "# def approx_average_is_average(hand):\n",
    "#     return card_average(hand[::2]) == card_average(hand[1::2])\n",
    "\n",
    "# approx_average_is_average([1, 2, 3, 4])"
   ]
  },
  {
   "cell_type": "code",
   "execution_count": 17,
   "id": "2e6c021f",
   "metadata": {},
   "outputs": [
    {
     "data": {
      "text/plain": [
       "[1, 2, 22]"
      ]
     },
     "execution_count": 17,
     "metadata": {},
     "output_type": "execute_result"
    }
   ],
   "source": [
    "def maybe_double_last(hand):\n",
    "    element = hand[-1]\n",
    "    if element == 11:\n",
    "        element = element * 2\n",
    "        hand[-1] = element\n",
    "    return hand \n",
    "\n",
    "maybe_double_last([1,2,11])"
   ]
  },
  {
   "cell_type": "code",
   "execution_count": null,
   "id": "69b5f7f5",
   "metadata": {},
   "outputs": [],
   "source": []
  }
 ],
 "metadata": {
  "kernelspec": {
   "display_name": "Python 3 (ipykernel)",
   "language": "python",
   "name": "python3"
  },
  "language_info": {
   "codemirror_mode": {
    "name": "ipython",
    "version": 3
   },
   "file_extension": ".py",
   "mimetype": "text/x-python",
   "name": "python",
   "nbconvert_exporter": "python",
   "pygments_lexer": "ipython3",
   "version": "3.8.10"
  }
 },
 "nbformat": 4,
 "nbformat_minor": 5
}
