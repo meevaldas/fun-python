{
 "cells": [
  {
   "cell_type": "code",
   "execution_count": 2,
   "id": "f260b3a3",
   "metadata": {},
   "outputs": [],
   "source": [
    "def eat_ghost(has_power_pellet_active, touches_a_ghost):\n",
    "    if has_power_pellet_active == True and touches_a_ghost == True:\n",
    "        return True\n",
    "    else:\n",
    "        return False\n",
    "\n",
    "eat_ghost(False,False)"
   ]
  },
  {
   "cell_type": "code",
   "execution_count": 10,
   "id": "fd6ffce8",
   "metadata": {},
   "outputs": [
    {
     "data": {
      "text/plain": [
       "True"
      ]
     },
     "execution_count": 10,
     "metadata": {},
     "output_type": "execute_result"
    }
   ],
   "source": [
    "def score(pac_man_touch_power_pellet, pac_man_touch_dot):\n",
    "    if pac_man_touch_power_pellet == True and pac_man_touch_dot == True:\n",
    "        return True\n",
    "    else:\n",
    "        return False\n",
    "    \n",
    "score(True, True)"
   ]
  },
  {
   "cell_type": "code",
   "execution_count": 15,
   "id": "f0deb000",
   "metadata": {},
   "outputs": [
    {
     "data": {
      "text/plain": [
       "False"
      ]
     },
     "execution_count": 15,
     "metadata": {},
     "output_type": "execute_result"
    }
   ],
   "source": [
    "def lose(pac_man_has_power_pellet_active,pac_man_is_touching_ghost):\n",
    "    if pac_man_has_power_pellet_active == True and pac_man_is_touching_ghost == True:\n",
    "        return True\n",
    "    else:\n",
    "        return False\n",
    "    \n",
    "lose(False, True)"
   ]
  },
  {
   "cell_type": "code",
   "execution_count": 19,
   "id": "98d3cad1",
   "metadata": {},
   "outputs": [
    {
     "data": {
      "text/plain": [
       "False"
      ]
     },
     "execution_count": 19,
     "metadata": {},
     "output_type": "execute_result"
    }
   ],
   "source": [
    "def win(pac_man_has_eaten_all_of_the_dots, pac_man_has_a_power_pellet_active, pac_man_is_touch_a_ghost):\n",
    "    if pac_man_has_eaten_all_of_the_dots == True and pac_man_has_a_power_pellet_active == True and pac_man_is_touch_a_ghost == True:\n",
    "        return True \n",
    "    else:\n",
    "        return False\n",
    "    \n",
    "win(False, True, False)"
   ]
  },
  {
   "cell_type": "code",
   "execution_count": null,
   "id": "9811bfee",
   "metadata": {},
   "outputs": [],
   "source": []
  }
 ],
 "metadata": {
  "kernelspec": {
   "display_name": "Python 3 (ipykernel)",
   "language": "python",
   "name": "python3"
  },
  "language_info": {
   "codemirror_mode": {
    "name": "ipython",
    "version": 3
   },
   "file_extension": ".py",
   "mimetype": "text/x-python",
   "name": "python",
   "nbconvert_exporter": "python",
   "pygments_lexer": "ipython3",
   "version": "3.8.10"
  }
 },
 "nbformat": 4,
 "nbformat_minor": 5
}
