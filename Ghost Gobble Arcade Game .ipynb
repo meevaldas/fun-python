{
 "cells": [
  {
   "cell_type": "code",
   "execution_count": 1,
   "id": "f260b3a3",
   "metadata": {},
   "outputs": [],
   "source": [
    "def eat_ghost(has_power_pellet_active, touches_a_ghost):\n",
    "    has_power_pellet_active = str.upper()\n",
    "    touches_a_ghost = str.upper()\n",
    "    if has_power_pellet_active == \"TRUE\" and touches_a_ghost == \"TRUE\":\n",
    "        return True\n",
    "    else:\n",
    "        return False\n",
    "        "
   ]
  },
  {
   "cell_type": "code",
   "execution_count": null,
   "id": "fd6ffce8",
   "metadata": {},
   "outputs": [],
   "source": [
    "eat_ghost(\"True\",)"
   ]
  }
 ],
 "metadata": {
  "kernelspec": {
   "display_name": "Python 3 (ipykernel)",
   "language": "python",
   "name": "python3"
  },
  "language_info": {
   "codemirror_mode": {
    "name": "ipython",
    "version": 3
   },
   "file_extension": ".py",
   "mimetype": "text/x-python",
   "name": "python",
   "nbconvert_exporter": "python",
   "pygments_lexer": "ipython3",
   "version": "3.8.10"
  }
 },
 "nbformat": 4,
 "nbformat_minor": 5
}
