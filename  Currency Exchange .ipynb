{
 "cells": [
  {
   "cell_type": "code",
   "execution_count": 1,
   "id": "3ca390e4",
   "metadata": {},
   "outputs": [
    {
     "data": {
      "text/plain": [
       "106.25"
      ]
     },
     "execution_count": 1,
     "metadata": {},
     "output_type": "execute_result"
    }
   ],
   "source": [
    "def exchange_money(budget, exchange_rate):\n",
    "    convert_to_euro = (budget/exchange_rate)\n",
    "    return convert_to_euro    \n",
    "    \n",
    "exchange_money(127.5, 1.2)"
   ]
  },
  {
   "cell_type": "code",
   "execution_count": 2,
   "id": "bdd2b2fb",
   "metadata": {},
   "outputs": [
    {
     "data": {
      "text/plain": [
       "7.5"
      ]
     },
     "execution_count": 2,
     "metadata": {},
     "output_type": "execute_result"
    }
   ],
   "source": [
    "def get_change(budget, exchanging_value):\n",
    "    money = budget - exchanging_value\n",
    "    return money\n",
    "\n",
    "get_change(127.5, 120)"
   ]
  },
  {
   "cell_type": "code",
   "execution_count": 6,
   "id": "e56656a2",
   "metadata": {},
   "outputs": [
    {
     "data": {
      "text/plain": [
       "665"
      ]
     },
     "execution_count": 6,
     "metadata": {},
     "output_type": "execute_result"
    }
   ],
   "source": [
    "def get_value_of_bills(denomination, number_of_bills):\n",
    "    total_money = int(denomination * number_of_bills)\n",
    "    return total_money\n",
    "\n",
    "get_value_of_bills(5.2, 128)"
   ]
  },
  {
   "cell_type": "code",
   "execution_count": 10,
   "id": "ec1f3a81",
   "metadata": {},
   "outputs": [
    {
     "data": {
      "text/plain": [
       "25"
      ]
     },
     "execution_count": 10,
     "metadata": {},
     "output_type": "execute_result"
    }
   ],
   "source": [
    "def get_number_of_bills(budget, denomination):\n",
    "    number_of_bills = int(budget / denomination)\n",
    "    return number_of_bills\n",
    "\n",
    "get_number_of_bills(127.5, 5)"
   ]
  },
  {
   "cell_type": "code",
   "execution_count": null,
   "id": "1205d4f2",
   "metadata": {},
   "outputs": [],
   "source": [
    "def get_leftover_of_bills(budget, denomination):\n",
    "    ugdihuff\n",
    "    \n",
    "get_leftover_of_bills(127.5, 20)"
   ]
  },
  {
   "cell_type": "code",
   "execution_count": null,
   "id": "8f8cb978",
   "metadata": {},
   "outputs": [],
   "source": [
    "def exchangeable_value(budget, exchange_rate, spread, denomination):\n",
    "    sdff\n",
    "    return x\n",
    "\n",
    "exchangeable_value(127.25, 1.20, 10, 20)"
   ]
  }
 ],
 "metadata": {
  "kernelspec": {
   "display_name": "Python 3 (ipykernel)",
   "language": "python",
   "name": "python3"
  },
  "language_info": {
   "codemirror_mode": {
    "name": "ipython",
    "version": 3
   },
   "file_extension": ".py",
   "mimetype": "text/x-python",
   "name": "python",
   "nbconvert_exporter": "python",
   "pygments_lexer": "ipython3",
   "version": "3.8.10"
  }
 },
 "nbformat": 4,
 "nbformat_minor": 5
}
