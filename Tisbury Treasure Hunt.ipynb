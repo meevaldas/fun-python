{
 "cells": [
  {
   "cell_type": "code",
   "execution_count": 2,
   "id": "7a3cbb05",
   "metadata": {},
   "outputs": [
    {
     "data": {
      "text/plain": [
       "'2A'"
      ]
     },
     "execution_count": 2,
     "metadata": {},
     "output_type": "execute_result"
    }
   ],
   "source": [
    "def get_coordinate(record):\n",
    "    return record[1] \n",
    "    \n",
    "get_coordinate(('Scrimshawed Whale Tooth', '2A'))"
   ]
  },
  {
   "cell_type": "code",
   "execution_count": 4,
   "id": "91670d64",
   "metadata": {},
   "outputs": [
    {
     "data": {
      "text/plain": [
       "('2', 'A')"
      ]
     },
     "execution_count": 4,
     "metadata": {},
     "output_type": "execute_result"
    }
   ],
   "source": [
    "def convert_coordinate(coordinate):\n",
    "    return tuple(coordinate)\n",
    "\n",
    "convert_coordinate(\"2A\")"
   ]
  },
  {
   "cell_type": "code",
   "execution_count": null,
   "id": "7ce668ca",
   "metadata": {},
   "outputs": [],
   "source": [
    "def compare_records():\n",
    "    "
   ]
  }
 ],
 "metadata": {
  "kernelspec": {
   "display_name": "Python 3 (ipykernel)",
   "language": "python",
   "name": "python3"
  },
  "language_info": {
   "codemirror_mode": {
    "name": "ipython",
    "version": 3
   },
   "file_extension": ".py",
   "mimetype": "text/x-python",
   "name": "python",
   "nbconvert_exporter": "python",
   "pygments_lexer": "ipython3",
   "version": "3.8.10"
  }
 },
 "nbformat": 4,
 "nbformat_minor": 5
}
