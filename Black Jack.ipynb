{
 "cells": [
  {
   "cell_type": "code",
   "execution_count": 7,
   "id": "727254cd",
   "metadata": {},
   "outputs": [
    {
     "name": "stdout",
     "output_type": "stream",
     "text": [
      "1\n"
     ]
    }
   ],
   "source": [
    "def value_of_card(card):\n",
    "    if card == 'A':\n",
    "        print(1)\n",
    "    elif card in ['K','Q','J']:\n",
    "        print(10)\n",
    "    else:\n",
    "        return card\n",
    "        \n",
    "value_of_card('A')"
   ]
  },
  {
   "cell_type": "code",
   "execution_count": 9,
   "id": "4ad6410a",
   "metadata": {},
   "outputs": [
    {
     "data": {
      "text/plain": [
       "'K'"
      ]
     },
     "execution_count": 9,
     "metadata": {},
     "output_type": "execute_result"
    }
   ],
   "source": [
    "def returning_two_values(card_one, card_two):\n",
    "    if card_one > card_two:\n",
    "        return card_one\n",
    "    elif card_one < card_two:\n",
    "        return card_two\n",
    "    else:\n",
    "        return card_one, card_two\n",
    "    \n",
    "returning_two_values('K', '10')"
   ]
  },
  {
   "cell_type": "code",
   "execution_count": null,
   "id": "57886dac",
   "metadata": {},
   "outputs": [],
   "source": []
  }
 ],
 "metadata": {
  "kernelspec": {
   "display_name": "Python 3 (ipykernel)",
   "language": "python",
   "name": "python3"
  },
  "language_info": {
   "codemirror_mode": {
    "name": "ipython",
    "version": 3
   },
   "file_extension": ".py",
   "mimetype": "text/x-python",
   "name": "python",
   "nbconvert_exporter": "python",
   "pygments_lexer": "ipython3",
   "version": "3.8.10"
  }
 },
 "nbformat": 4,
 "nbformat_minor": 5
}
