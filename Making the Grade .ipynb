{
 "cells": [
  {
   "cell_type": "code",
   "execution_count": 1,
   "id": "617c6099",
   "metadata": {},
   "outputs": [
    {
     "data": {
      "text/plain": [
       "[90, 40, 55, 70, 31, 25, 80, 95, 39, 40]"
      ]
     },
     "execution_count": 1,
     "metadata": {},
     "output_type": "execute_result"
    }
   ],
   "source": [
    "def round_scores(student_scores):\n",
    "    round_to_whole = [round(num) for num in student_scores]\n",
    "    return round_to_whole\n",
    "\n",
    "student_scores = [90.33, 40.5, 55.44, 70.05, 30.55, 25.45, 80.45, 95.3, 38.7, 40.3]\n",
    "round_scores(student_scores)"
   ]
  },
  {
   "cell_type": "code",
   "execution_count": 3,
   "id": "90e3bae5",
   "metadata": {},
   "outputs": [
    {
     "data": {
      "text/plain": [
       "5"
      ]
     },
     "execution_count": 3,
     "metadata": {},
     "output_type": "execute_result"
    }
   ],
   "source": [
    "def count_failed_students(student_scores):\n",
    "    count = 0\n",
    "    for score in student_scores:\n",
    "        if(score <= 40):\n",
    "            count += 1\n",
    "        else:\n",
    "            pass\n",
    "    return count\n",
    "\n",
    "count_failed_students(student_scores=[90,40,55,70,30,25,80,95,38,40])"
   ]
  },
  {
   "cell_type": "code",
   "execution_count": 7,
   "id": "fbc5edf5",
   "metadata": {},
   "outputs": [
    {
     "data": {
      "text/plain": [
       "[90, 75, 83, 96]"
      ]
     },
     "execution_count": 7,
     "metadata": {},
     "output_type": "execute_result"
    }
   ],
   "source": [
    "def above_threshold(student_scores, threshold):\n",
    "    my_list = [i for i in student_scores if i >= threshold]\n",
    "#     my_list = []\n",
    "#     for score in student_scores:\n",
    "#         if(score >= threshold):\n",
    "#             my_list = my_list.append(score)\n",
    "#         else:\n",
    "#             pass\n",
    "    return my_list\n",
    "\n",
    "above_threshold(student_scores=[90,40,55,70,30,68,70,75,83,96], threshold=75)"
   ]
  },
  {
   "cell_type": "code",
   "execution_count": null,
   "id": "091c5373",
   "metadata": {},
   "outputs": [],
   "source": []
  }
 ],
 "metadata": {
  "kernelspec": {
   "display_name": "Python 3 (ipykernel)",
   "language": "python",
   "name": "python3"
  },
  "language_info": {
   "codemirror_mode": {
    "name": "ipython",
    "version": 3
   },
   "file_extension": ".py",
   "mimetype": "text/x-python",
   "name": "python",
   "nbconvert_exporter": "python",
   "pygments_lexer": "ipython3",
   "version": "3.8.10"
  }
 },
 "nbformat": 4,
 "nbformat_minor": 5
}
